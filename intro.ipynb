{
 "cells": [
  {
   "cell_type": "markdown",
   "metadata": {},
   "source": [
    "## Question 1.1: Write the Answer to these questions."
   ]
  },
  {
   "cell_type": "markdown",
   "metadata": {},
   "source": [
    "### •\tWhat is the difference between static and dynamic variables in python?\n",
    "##### Key Differences\n",
    "##### Association: Static variables are associated with the class itself, while dynamic variables are associated with instances of the class.\n",
    "##### Lifetime: Static variables persist for the lifetime of the class, while dynamic variables persist for the lifetime of the instance.\n",
    "##### Access: Static variables are accessed using the class name, whereas dynamic variables are accessed using the instance reference.\n",
    "##### Modification: Changing a static variable affects all instances of the class, while changing a dynamic variable only affects the particular instance."
   ]
  },
  {
   "cell_type": "code",
   "execution_count": 1,
   "metadata": {},
   "outputs": [
    {
     "name": "stdout",
     "output_type": "stream",
     "text": [
      "Static variable: 42\n",
      "Instance variable: 1\n",
      "Static variable: 42\n",
      "Instance variable: 2\n",
      "Static variable: 100\n",
      "Instance variable: 1\n",
      "Static variable: 100\n",
      "Instance variable: 2\n"
     ]
    }
   ],
   "source": [
    "''' static variables Example'''\n",
    "class MyClass:\n",
    "    static_variable = 42  # This is a static variable\n",
    "\n",
    "    def __init__(self, value):\n",
    "        self.instance_variable = value  # This is an instance variable\n",
    "\n",
    "    def show(self):\n",
    "        print(f'Static variable: {MyClass.static_variable}')\n",
    "        print(f'Instance variable: {self.instance_variable}')\n",
    "\n",
    "obj1 = MyClass(1)\n",
    "obj2 = MyClass(2)\n",
    "\n",
    "obj1.show()\n",
    "obj2.show()\n",
    "\n",
    "MyClass.static_variable = 100  # Modifying the static variable\n",
    "\n",
    "obj1.show()\n",
    "obj2.show()"
   ]
  },
  {
   "cell_type": "code",
   "execution_count": 2,
   "metadata": {},
   "outputs": [
    {
     "name": "stdout",
     "output_type": "stream",
     "text": [
      "Instance variable: 1\n",
      "Instance variable: 2\n",
      "Instance variable: 10\n",
      "Instance variable: 2\n"
     ]
    }
   ],
   "source": [
    "''' Dynamic varible Example'''\n",
    "class MyClass:\n",
    "    def __init__(self, value):\n",
    "        self.instance_variable = value  # This is a dynamic variable\n",
    "\n",
    "    def show(self):\n",
    "        print(f'Instance variable: {self.instance_variable}')\n",
    "\n",
    "obj1 = MyClass(1)\n",
    "obj2 = MyClass(2)\n",
    "\n",
    "obj1.show()\n",
    "obj2.show()\n",
    "\n",
    "obj1.instance_variable = 10  # Modifying the instance variable of obj1\n",
    "\n",
    "obj1.show()\n",
    "obj2.show()\n"
   ]
  },
  {
   "cell_type": "markdown",
   "metadata": {},
   "source": [
    "### •\tExplain the purpose of 'pop','popitem','clear()'  in a dictionary with suitable examples."
   ]
  },
  {
   "cell_type": "code",
   "execution_count": null,
   "metadata": {},
   "outputs": [],
   "source": [
    "'''pop()\n",
    "Purpose: Removes the specified key and returns the corresponding value. If the key is not found, it raises a KeyError unless a default value is provided.\n",
    "'''\n",
    "my_dict = {'a': 1, 'b': 2, 'c': 3}\n",
    "# Removing an item by key\n",
    "value = my_dict.pop('b')\n",
    "print(value)  # Output: 2\n",
    "print(my_dict)  # Output: {'a': 1, 'c': 3}\n",
    "# Removing a key that doesn't exist, with a default value\n",
    "value = my_dict.pop('d', 'Not Found')\n",
    "print(value)  # Output: Not Found"
   ]
  },
  {
   "cell_type": "code",
   "execution_count": null,
   "metadata": {},
   "outputs": [],
   "source": [
    "'''popitem()\n",
    "Purpose: Removes and returns an arbitrary (key, value) pair from the dictionary. This method is useful for destructively iterating over a dictionary.\n",
    "'''\n",
    "my_dict = {'a': 1, 'b': 2, 'c': 3}\n",
    "# Removing an arbitrary item\n",
    "key, value = my_dict.popitem()\n",
    "print((key, value))  # Output could be: ('c', 3)\n",
    "print(my_dict)  # Output could be: {'a': 1, 'b': 2}\n",
    "# Removing another arbitrary item\n",
    "key, value = my_dict.popitem()\n",
    "print((key, value))  # Output could be: ('b', 2)\n",
    "print(my_dict)  # Output could be: {'a': 1"
   ]
  },
  {
   "cell_type": "code",
   "execution_count": null,
   "metadata": {},
   "outputs": [],
   "source": [
    "'''clear()\n",
    "Purpose: Removes all items from the dictionary, leaving it empty.\n",
    "'''\n",
    "my_dict = {'a': 1, 'b': 2, 'c': 3}\n",
    "# Clearing the dictionary\n",
    "my_dict.clear()\n",
    "print(my_dict)  # Output: {}"
   ]
  },
  {
   "cell_type": "markdown",
   "metadata": {},
   "source": [
    "### •\tWhat do you mean by FrozenSet? Explain it with suitable examples.\n",
    "####\n",
    "In Python, a frozenset is an immutable version of a set. This means that once a frozenset is created, its elements cannot be changed (i.e., no additions or removals are allowed). frozenset can be useful when you need a set that should not be modified, for instance, as keys in a dictionary or as elements in another set."
   ]
  },
  {
   "cell_type": "code",
   "execution_count": 3,
   "metadata": {},
   "outputs": [
    {
     "name": "stdout",
     "output_type": "stream",
     "text": [
      "frozenset({1, 2, 3, 4})\n",
      "frozenset({1, 2, 3})\n",
      "frozenset({4, 5, 6})\n",
      "{frozenset({1, 2, 3, 4}): 'Immutable set', frozenset({1, 2, 3}): 'Another frozenset'}\n",
      "{frozenset({1, 2, 3}), frozenset({1, 2, 3, 4})}\n"
     ]
    }
   ],
   "source": [
    "# Creating a frozenset from a list\n",
    "fs = frozenset([1, 2, 3, 4])\n",
    "print(fs) \n",
    "# Creating a frozenset from a set\n",
    "fs_from_set = frozenset({1, 2, 2, 3})\n",
    "print(fs_from_set) \n",
    "# Creating a frozenset from a set\n",
    "fs_from_tuple = frozenset((4, 5, 6, 6))\n",
    "print(fs_from_tuple)  \n",
    "my_dict = {fs: \"Immutable set\", fs_from_set: \"Another frozenset\"}\n",
    "print(my_dict)  \n",
    "set_of_frozensets = {fs, fs_from_set}\n",
    "print(set_of_frozensets) "
   ]
  },
  {
   "cell_type": "markdown",
   "metadata": {},
   "source": [
    "### •\tDifferentiate between mutable and immutable data types in python and give examples of mutable and immutable data types.\n",
    "#### Mutable Data Types\n",
    "Mutable data types are those whose state can be changed after they are created. This means that you can modify their contents without creating a new object.\n",
    "#### Immutable Data Types\n",
    "Immutable data types are those whose state cannot be changed after they are created. Any modification to an immutable object results in the creation of a new object."
   ]
  },
  {
   "cell_type": "code",
   "execution_count": 4,
   "metadata": {},
   "outputs": [
    {
     "name": "stdout",
     "output_type": "stream",
     "text": [
      "[1, 2, 3, 4]\n",
      "{'a': 1, 'b': 2, 'c': 3}\n",
      "{1, 2, 3, 4}\n"
     ]
    }
   ],
   "source": [
    "''' Example of Mutable Data Types:'''\n",
    "# List example\n",
    "my_list = [1, 2, 3]\n",
    "my_list.append(4) \n",
    "print(my_list) \n",
    "# Dictionary example\n",
    "my_dict = {'a': 1, 'b': 2}\n",
    "my_dict['c'] = 3  \n",
    "print(my_dict)  \n",
    "# Set example\n",
    "my_set = {1, 2, 3}\n",
    "my_set.add(4)  \n",
    "print(my_set)  \n"
   ]
  },
  {
   "cell_type": "code",
   "execution_count": null,
   "metadata": {},
   "outputs": [],
   "source": [
    "''' Example of Imutable Data Types'''\n",
    "# String example\n",
    "my_string = \"hello\"\n",
    "new_string = my_string.upper() \n",
    "print(my_string)  \n",
    "print(new_string)  \n",
    "\n",
    "# Tuple example\n",
    "my_tuple = (1, 2, 3)\n",
    "# Number example\n",
    "a = 10\n",
    "b = a + 5  \n",
    "print(a)  \n",
    "print(b) \n",
    "\n",
    "# frozenset example\n",
    "my_frozenset = frozenset([1, 2, 3])\n"
   ]
  },
  {
   "cell_type": "markdown",
   "metadata": {},
   "source": [
    "### •\tWhat is '__init__'?Explain with an example.\n",
    "The __init__ method in Python is a special method that is called when an instance (object) of a class is created. It is commonly known as the constructor method in Python. The primary purpose of __init__ is to initialize the attributes of the object. It can be used to set the initial state of an object by assigning values to the instance variables."
   ]
  },
  {
   "cell_type": "code",
   "execution_count": 5,
   "metadata": {},
   "outputs": [
    {
     "name": "stdout",
     "output_type": "stream",
     "text": [
      "Alice\n",
      "30\n",
      "Hello, my name is Alice and I am 30 years old.\n"
     ]
    }
   ],
   "source": [
    "''' __init__ method Example '''\n",
    "class Person:\n",
    "    def __init__(self, name, age):\n",
    "        self.name = name  # Initialize the instance variable 'name'\n",
    "        self.age = age    # Initialize the instance variable 'age'\n",
    "\n",
    "    def greet(self):\n",
    "        print(f\"Hello, my name is {self.name} and I am {self.age} years old.\")\n",
    "# Creating an instance of the Person class\n",
    "person1 = Person(\"Alice\", 30)\n",
    "# Accessing instance variables\n",
    "print(person1.name)  \n",
    "print(person1.age)\n",
    "\n",
    "# Calling a method of the Person class\n",
    "person1.greet()  \n"
   ]
  },
  {
   "cell_type": "markdown",
   "metadata": {},
   "source": [
    "### •\tWhat is docstring in Python?Explain with an example.\n",
    "Docstrings are a crucial part of writing readable and maintainable code, as they help others and your future self understand the purpose and usage of various parts of your code.\n",
    "  Purpose: To provide a convenient way to associate documentation with Python code."
   ]
  },
  {
   "cell_type": "code",
   "execution_count": 6,
   "metadata": {},
   "outputs": [
    {
     "name": "stdout",
     "output_type": "stream",
     "text": [
      "\n",
      "    Adds two numbers and returns the result.\n",
      "\n",
      "    Parameters:\n",
      "    a (int or float): The first number to add.\n",
      "    b (int or float): The second number to add.\n",
      "\n",
      "    Returns:\n",
      "    int or float: The sum of the two numbers.\n",
      "    \n"
     ]
    }
   ],
   "source": [
    "def add(a, b):\n",
    "    \"\"\"\n",
    "    Adds two numbers and returns the result.\n",
    "\n",
    "    Parameters:\n",
    "    a (int or float): The first number to add.\n",
    "    b (int or float): The second number to add.\n",
    "\n",
    "    Returns:\n",
    "    int or float: The sum of the two numbers.\n",
    "    \"\"\"\n",
    "    return a + b\n",
    "\n",
    "# Accessing the docstring\n",
    "print(add.__doc__)\n"
   ]
  },
  {
   "cell_type": "markdown",
   "metadata": {},
   "source": [
    "### •\tWhat are unit tests in Python?\n",
    "Unit tests in Python are a method of testing individual units or components of a program to ensure that they are functioning correctly. A unit is the smallest testable part of an application, such as a function, method, or class. Unit testing is crucial for verifying that each part of the software works as expected and helps in identifying and fixing bugs early in the development process."
   ]
  },
  {
   "cell_type": "code",
   "execution_count": 7,
   "metadata": {},
   "outputs": [],
   "source": [
    "# math_operations.py\n",
    "\n",
    "def add(a, b):\n",
    "    return a + b\n",
    "\n",
    "def subtract(a, b):\n",
    "    return a - b\n",
    "\n",
    "def multiply(a, b):\n",
    "    return a * b\n",
    "\n",
    "def divide(a, b):\n",
    "    if b == 0:\n",
    "        raise ValueError(\"Cannot divide by zero!\")\n",
    "    return a / b\n"
   ]
  },
  {
   "cell_type": "markdown",
   "metadata": {},
   "source": [
    "### •\tWhat is break, continue and pass in python?\n",
    "##### break: Exits the loop immediately.\n",
    "##### continue: Skips the rest of the current loop iteration and moves to the next iteration.\n",
    "##### pass: Does nothing and is used as a placeholder."
   ]
  },
  {
   "cell_type": "code",
   "execution_count": 8,
   "metadata": {},
   "outputs": [
    {
     "name": "stdout",
     "output_type": "stream",
     "text": [
      "0\n",
      "1\n",
      "2\n",
      "3\n",
      "4\n"
     ]
    }
   ],
   "source": [
    "# Examle of break\n",
    "for i in range(10):\n",
    "    if i == 5:\n",
    "        break\n",
    "    print(i)\n"
   ]
  },
  {
   "cell_type": "code",
   "execution_count": 9,
   "metadata": {},
   "outputs": [
    {
     "name": "stdout",
     "output_type": "stream",
     "text": [
      "1\n",
      "3\n",
      "5\n",
      "7\n",
      "9\n"
     ]
    }
   ],
   "source": [
    "#Example of continue\n",
    "for i in range(10):\n",
    "    if i % 2 == 0:\n",
    "        continue\n",
    "    print(i)\n"
   ]
  },
  {
   "cell_type": "code",
   "execution_count": 10,
   "metadata": {},
   "outputs": [
    {
     "name": "stdout",
     "output_type": "stream",
     "text": [
      "1\n",
      "3\n",
      "5\n",
      "7\n",
      "9\n"
     ]
    }
   ],
   "source": [
    "# Example of pass\n",
    "for i in range(10):\n",
    "    if i % 2 == 0:\n",
    "        pass\n",
    "    else:\n",
    "        print(i)\n"
   ]
  },
  {
   "cell_type": "markdown",
   "metadata": {},
   "source": [
    "### •\tWhat is the use of self in Python?\n",
    "In Python, self is a conventional name for the first parameter of instance methods in a class. It is a reference to the current instance of the class and is used to access variables and methods associated with that instance. By using self, you can access attributes and methods of the class in object-oriented programming.\n"
   ]
  },
  {
   "cell_type": "code",
   "execution_count": 11,
   "metadata": {},
   "outputs": [
    {
     "name": "stdout",
     "output_type": "stream",
     "text": [
      "Area: 78.5\n",
      "Circumference: 31.400000000000002\n"
     ]
    }
   ],
   "source": [
    "class Circle:\n",
    "    def __init__(self, radius):\n",
    "        self.radius = radius\n",
    "\n",
    "    def area(self):\n",
    "        return 3.14 * self.radius ** 2\n",
    "\n",
    "    def circumference(self):\n",
    "        return 2 * 3.14 * self.radius\n",
    "\n",
    "# Creating an instance of the Circle class\n",
    "circle = Circle(5)\n",
    "print(f\"Area: {circle.area()}\")            \n",
    "print(f\"Circumference: {circle.circumference()}\")  \n"
   ]
  },
  {
   "cell_type": "markdown",
   "metadata": {},
   "source": [
    "### •\tWhat are global , protected and private attributes in Python?\n",
    "##### Global Variables: Defined outside of functions and classes, accessible throughout the module or program.\n",
    "##### Protected Attributes: Conventionally indicated by a single leading underscore (_), implying internal use within a module or class hierarchy.\n",
    "##### Private Attributes: Achieved by name mangling with double leading underscores (__), intended to avoid name clashes in subclasses and to signal internal use only.\n"
   ]
  },
  {
   "cell_type": "code",
   "execution_count": 12,
   "metadata": {},
   "outputs": [
    {
     "name": "stdout",
     "output_type": "stream",
     "text": [
      "10\n"
     ]
    }
   ],
   "source": [
    "# Global variable\n",
    "global_var = 10\n",
    "def func():\n",
    "    print(global_var) \n",
    "\n",
    "func()"
   ]
  },
  {
   "cell_type": "code",
   "execution_count": 13,
   "metadata": {},
   "outputs": [
    {
     "name": "stdout",
     "output_type": "stream",
     "text": [
      "20\n"
     ]
    }
   ],
   "source": [
    "# protected Attributes\n",
    "class Base:\n",
    "    def __init__(self):\n",
    "        self._protected_var = 20\n",
    "\n",
    "class Derived(Base):\n",
    "    def __init__(self):\n",
    "        super().__init__()\n",
    "        print(self._protected_var)  \n",
    "\n",
    "obj = Derived()  "
   ]
  },
  {
   "cell_type": "code",
   "execution_count": 14,
   "metadata": {},
   "outputs": [
    {
     "name": "stdout",
     "output_type": "stream",
     "text": [
      "30\n"
     ]
    }
   ],
   "source": [
    "# Private Attributes\n",
    "class MyClass:\n",
    "    def __init__(self):\n",
    "        self.__private_var = 30\n",
    "\n",
    "    def get_private_var(self):\n",
    "        return self.__private_var\n",
    "\n",
    "obj = MyClass()\n",
    "# Accessing private variable indirectly through a method\n",
    "print(obj.get_private_var()) "
   ]
  },
  {
   "cell_type": "markdown",
   "metadata": {},
   "source": [
    "### •\tWhat are modules and packages in python?\n",
    "##### Modules: Single files containing Python code. They help in organizing code by defining functions, classes, and variables.\n",
    "##### Packages: Directories containing multiple modules and an __init__.py file. They help in organizing modules hierarchically and managing large codebases."
   ]
  },
  {
   "cell_type": "code",
   "execution_count": null,
   "metadata": {},
   "outputs": [],
   "source": [
    "'''Creating a Module'''\n",
    "# mymodule.py\n",
    "def greet(name):\n",
    "    return f\"Hello, {name}!\"\n",
    "\n",
    "PI = 3.14159\n",
    "\n",
    "import mymodule\n",
    "\n",
    "print(mymodule.greet(\"Alice\"))  # Output: Hello, Alice!\n",
    "print(mymodule.PI)              # Output: 3.14159\n",
    "\n"
   ]
  },
  {
   "cell_type": "code",
   "execution_count": null,
   "metadata": {},
   "outputs": [],
   "source": [
    "# mypackage/__init__.py\n",
    "\n",
    "def package_greet(name):\n",
    "    return f\"Hello from the package, {name}!\"\n",
    "\n",
    "# main.py\n",
    "\n",
    "import mypackage.module1\n",
    "import mypackage.module2\n",
    "\n",
    "print(mypackage.module1.some_function())\n"
   ]
  },
  {
   "cell_type": "markdown",
   "metadata": {},
   "source": [
    "### •\tWhat are lists and tuples? What is the key difference between the two?\n",
    "##### Lists\n",
    "Definition: A list is an ordered collection of items that is mutable, meaning its elements can be changed after the list is created.\n",
    "Syntax: Lists are defined using square brackets [].\n",
    "Mutable: You can add, remove, or modify elements in a list.\n",
    "Dynamic: Lists can grow and shrink in size as needed.\n",
    "Usage: Suitable for collections of items that need to be modified.\n",
    "##### Tuple\n",
    "Definition: A tuple is an ordered collection of items that is immutable, meaning its elements cannot be changed after the tuple is created.\n",
    "Syntax: Tuples are defined using parentheses ().\n",
    "Immutable: Once a tuple is created, you cannot add, remove, or modify its elements.\n",
    "Static: Tuples have a fixed size and content.\n",
    "Usage: Suitable for collections of items that should not be modified, such as fixed data sets or constants."
   ]
  },
  {
   "cell_type": "code",
   "execution_count": 15,
   "metadata": {},
   "outputs": [
    {
     "name": "stdout",
     "output_type": "stream",
     "text": [
      "apple\n",
      "['apple', 'blueberry', 'cherry']\n",
      "['apple', 'blueberry', 'cherry', 'date']\n",
      "['blueberry', 'cherry', 'date']\n"
     ]
    }
   ],
   "source": [
    "# List Example\n",
    "fruits = [\"apple\", \"banana\", \"cherry\"]\n",
    "print(fruits[0]) \n",
    "fruits[1] = \"blueberry\"\n",
    "print(fruits)  \n",
    "fruits.append(\"date\")\n",
    "print(fruits)  \n",
    "fruits.remove(\"apple\")\n",
    "print(fruits) \n"
   ]
  },
  {
   "cell_type": "code",
   "execution_count": 16,
   "metadata": {},
   "outputs": [
    {
     "name": "stdout",
     "output_type": "stream",
     "text": [
      "apple\n",
      "('apple', 'banana', 'cherry', 'date')\n",
      "apple\n",
      "banana\n",
      "cherry\n"
     ]
    }
   ],
   "source": [
    "# TUPLE EXAMPLE\n",
    "fruits = (\"apple\", \"banana\", \"cherry\")\n",
    "print(fruits[0])  \n",
    "new_fruits = fruits + (\"date\",)\n",
    "print(new_fruits)  \n",
    "\n",
    "a, b, c = (\"apple\", \"banana\", \"cherry\")\n",
    "print(a)  \n",
    "print(b)  \n",
    "print(c)  \n"
   ]
  },
  {
   "cell_type": "markdown",
   "metadata": {},
   "source": [
    "### •\tWhat is an Interpreted language & dynamically typed language?Write 5 differences between them.\n",
    "Execution vs. Type Determination:\n",
    "\n",
    "Interpreted: Code is executed directly line by line.\n",
    "Dynamically Typed: Variable types are determined at runtime.\n",
    "\n",
    "Compilation:\n",
    "\n",
    "Interpreted: No compilation needed.\n",
    "Dynamically Typed: No type declarations needed.\n",
    "\n",
    "Type Checking:\n",
    "\n",
    "Interpreted: Performed at runtime by the interpreter.\n",
    "Dynamically Typed: Performed at runtime, allowing variables to change type.\n",
    "\n",
    "Error Detection:\n",
    "\n",
    "Interpreted: Errors are found at runtime.\n",
    "Dynamically Typed: Type-related errors are found at runtime.\n",
    "\n",
    "Performance:\n",
    "\n",
    "Interpreted: Generally slower due to interpretation overhead.\n",
    "Dynamically Typed: Variable performance; dynamic typing adds flexibility but may impact speed."
   ]
  },
  {
   "cell_type": "markdown",
   "metadata": {},
   "source": [
    "### •\tWhat are Dict and List comprehensions?\n",
    "List and dictionary comprehensions are concise ways to create lists and dictionaries in Python. They offer a more readable and expressive way to generate these collections by embedding loops and conditional logic within a single line of code."
   ]
  },
  {
   "cell_type": "code",
   "execution_count": 17,
   "metadata": {},
   "outputs": [
    {
     "name": "stdout",
     "output_type": "stream",
     "text": [
      "[0, 4, 16, 36, 64]\n"
     ]
    }
   ],
   "source": [
    "''' Creating a list of squares of even numbers from 0 to 9'''\n",
    "squares = [x**2 for x in range(10) if x % 2 == 0]\n",
    "print(squares)  \n"
   ]
  },
  {
   "cell_type": "code",
   "execution_count": 18,
   "metadata": {},
   "outputs": [
    {
     "name": "stdout",
     "output_type": "stream",
     "text": [
      "{0: 0, 2: 4, 4: 16, 6: 36, 8: 64}\n"
     ]
    }
   ],
   "source": [
    "'''Creating a dictionary with numbers as keys and their squares as values for even numbers from 0 to 9:'''\n",
    "squares_dict = {x: x**2 for x in range(10) if x % 2 == 0}\n",
    "print(squares_dict)  \n"
   ]
  },
  {
   "cell_type": "markdown",
   "metadata": {},
   "source": [
    "### •\tWhat are decorators in Python? Explain it with an example.Write down its use cases.\n",
    "Decorators in Python are a powerful and elegant way to modify the behavior of a function or a method. They allow you to wrap another function in order to extend its behavior without explicitly modifying it. Decorators are commonly used for logging, access control, memoization, and other cross-cutting concerns.\n",
    "\n",
    "Use Cases for Decorators\n",
    "\n",
    "Logging: Automatically log information about function calls.\n",
    "Authentication and Authorization: Check user permissions before allowing access to certain functions.\n",
    "Memoization: Cache results of expensive function calls to improve performance.\n",
    "Input Validation: Check and validate the inputs to a function.\n",
    "Timing: Measure the time a function takes to execute."
   ]
  },
  {
   "cell_type": "code",
   "execution_count": 19,
   "metadata": {},
   "outputs": [],
   "source": [
    "def my_decorator(func):\n",
    "    def wrapper():\n",
    "        print(\"Something is happening before the function is called.\")\n",
    "        func()\n",
    "        print(\"Something is happening after the function is called.\")\n",
    "    return wrapper\n"
   ]
  },
  {
   "cell_type": "markdown",
   "metadata": {},
   "source": [
    "### •\tHow is memory managed in Python?\n",
    "Memory management in Python involves a combination of techniques to efficiently allocate, use, and reclaim memory during the execution of a program. Here's an overview of how memory is managed in Python:"
   ]
  },
  {
   "cell_type": "code",
   "execution_count": null,
   "metadata": {},
   "outputs": [],
   "source": []
  }
 ],
 "metadata": {
  "kernelspec": {
   "display_name": "Python 3",
   "language": "python",
   "name": "python3"
  },
  "language_info": {
   "codemirror_mode": {
    "name": "ipython",
    "version": 3
   },
   "file_extension": ".py",
   "mimetype": "text/x-python",
   "name": "python",
   "nbconvert_exporter": "python",
   "pygments_lexer": "ipython3",
   "version": "3.11.4"
  }
 },
 "nbformat": 4,
 "nbformat_minor": 2
}
