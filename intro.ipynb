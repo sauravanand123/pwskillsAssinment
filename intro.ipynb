{
 "cells": [
  {
   "cell_type": "markdown",
   "metadata": {},
   "source": [
    "## Question 1.1: Write the Answer to these questions."
   ]
  },
  {
   "cell_type": "markdown",
   "metadata": {},
   "source": [
    "### •\tWhat is the difference between static and dynamic variables in python?\n",
    "##### Key Differences\n",
    "##### Association: Static variables are associated with the class itself, while dynamic variables are associated with instances of the class.\n",
    "##### Lifetime: Static variables persist for the lifetime of the class, while dynamic variables persist for the lifetime of the instance.\n",
    "##### Access: Static variables are accessed using the class name, whereas dynamic variables are accessed using the instance reference.\n",
    "##### Modification: Changing a static variable affects all instances of the class, while changing a dynamic variable only affects the particular instance."
   ]
  },
  {
   "cell_type": "code",
   "execution_count": 1,
   "metadata": {},
   "outputs": [
    {
     "name": "stdout",
     "output_type": "stream",
     "text": [
      "Static variable: 42\n",
      "Instance variable: 1\n",
      "Static variable: 42\n",
      "Instance variable: 2\n",
      "Static variable: 100\n",
      "Instance variable: 1\n",
      "Static variable: 100\n",
      "Instance variable: 2\n"
     ]
    }
   ],
   "source": [
    "''' static variables Example'''\n",
    "class MyClass:\n",
    "    static_variable = 42  # This is a static variable\n",
    "\n",
    "    def __init__(self, value):\n",
    "        self.instance_variable = value  # This is an instance variable\n",
    "\n",
    "    def show(self):\n",
    "        print(f'Static variable: {MyClass.static_variable}')\n",
    "        print(f'Instance variable: {self.instance_variable}')\n",
    "\n",
    "obj1 = MyClass(1)\n",
    "obj2 = MyClass(2)\n",
    "\n",
    "obj1.show()\n",
    "obj2.show()\n",
    "\n",
    "MyClass.static_variable = 100  # Modifying the static variable\n",
    "\n",
    "obj1.show()\n",
    "obj2.show()"
   ]
  },
  {
   "cell_type": "code",
   "execution_count": 2,
   "metadata": {},
   "outputs": [
    {
     "name": "stdout",
     "output_type": "stream",
     "text": [
      "Instance variable: 1\n",
      "Instance variable: 2\n",
      "Instance variable: 10\n",
      "Instance variable: 2\n"
     ]
    }
   ],
   "source": [
    "''' Dynamic varible Example'''\n",
    "class MyClass:\n",
    "    def __init__(self, value):\n",
    "        self.instance_variable = value  # This is a dynamic variable\n",
    "\n",
    "    def show(self):\n",
    "        print(f'Instance variable: {self.instance_variable}')\n",
    "\n",
    "obj1 = MyClass(1)\n",
    "obj2 = MyClass(2)\n",
    "\n",
    "obj1.show()\n",
    "obj2.show()\n",
    "\n",
    "obj1.instance_variable = 10  # Modifying the instance variable of obj1\n",
    "\n",
    "obj1.show()\n",
    "obj2.show()\n"
   ]
  },
  {
   "cell_type": "markdown",
   "metadata": {},
   "source": [
    "### •\tExplain the purpose of 'pop','popitem','clear()'  in a dictionary with suitable examples."
   ]
  },
  {
   "cell_type": "code",
   "execution_count": null,
   "metadata": {},
   "outputs": [],
   "source": [
    "'''pop()\n",
    "Purpose: Removes the specified key and returns the corresponding value. If the key is not found, it raises a KeyError unless a default value is provided.\n",
    "'''\n",
    "my_dict = {'a': 1, 'b': 2, 'c': 3}\n",
    "# Removing an item by key\n",
    "value = my_dict.pop('b')\n",
    "print(value)  # Output: 2\n",
    "print(my_dict)  # Output: {'a': 1, 'c': 3}\n",
    "# Removing a key that doesn't exist, with a default value\n",
    "value = my_dict.pop('d', 'Not Found')\n",
    "print(value)  # Output: Not Found"
   ]
  },
  {
   "cell_type": "code",
   "execution_count": null,
   "metadata": {},
   "outputs": [],
   "source": [
    "'''popitem()\n",
    "Purpose: Removes and returns an arbitrary (key, value) pair from the dictionary. This method is useful for destructively iterating over a dictionary.\n",
    "'''\n",
    "my_dict = {'a': 1, 'b': 2, 'c': 3}\n",
    "# Removing an arbitrary item\n",
    "key, value = my_dict.popitem()\n",
    "print((key, value))  # Output could be: ('c', 3)\n",
    "print(my_dict)  # Output could be: {'a': 1, 'b': 2}\n",
    "# Removing another arbitrary item\n",
    "key, value = my_dict.popitem()\n",
    "print((key, value))  # Output could be: ('b', 2)\n",
    "print(my_dict)  # Output could be: {'a': 1"
   ]
  },
  {
   "cell_type": "code",
   "execution_count": null,
   "metadata": {},
   "outputs": [],
   "source": [
    "'''clear()\n",
    "Purpose: Removes all items from the dictionary, leaving it empty.\n",
    "'''\n",
    "my_dict = {'a': 1, 'b': 2, 'c': 3}\n",
    "# Clearing the dictionary\n",
    "my_dict.clear()\n",
    "print(my_dict)  # Output: {}"
   ]
  },
  {
   "cell_type": "markdown",
   "metadata": {},
   "source": [
    "### •\tWhat do you mean by FrozenSet? Explain it with suitable examples.\n",
    "####\n",
    "In Python, a frozenset is an immutable version of a set. This means that once a frozenset is created, its elements cannot be changed (i.e., no additions or removals are allowed). frozenset can be useful when you need a set that should not be modified, for instance, as keys in a dictionary or as elements in another set."
   ]
  },
  {
   "cell_type": "code",
   "execution_count": 3,
   "metadata": {},
   "outputs": [
    {
     "name": "stdout",
     "output_type": "stream",
     "text": [
      "frozenset({1, 2, 3, 4})\n",
      "frozenset({1, 2, 3})\n",
      "frozenset({4, 5, 6})\n",
      "{frozenset({1, 2, 3, 4}): 'Immutable set', frozenset({1, 2, 3}): 'Another frozenset'}\n",
      "{frozenset({1, 2, 3}), frozenset({1, 2, 3, 4})}\n"
     ]
    }
   ],
   "source": [
    "# Creating a frozenset from a list\n",
    "fs = frozenset([1, 2, 3, 4])\n",
    "print(fs) \n",
    "# Creating a frozenset from a set\n",
    "fs_from_set = frozenset({1, 2, 2, 3})\n",
    "print(fs_from_set) \n",
    "# Creating a frozenset from a set\n",
    "fs_from_tuple = frozenset((4, 5, 6, 6))\n",
    "print(fs_from_tuple)  \n",
    "my_dict = {fs: \"Immutable set\", fs_from_set: \"Another frozenset\"}\n",
    "print(my_dict)  \n",
    "set_of_frozensets = {fs, fs_from_set}\n",
    "print(set_of_frozensets) "
   ]
  },
  {
   "cell_type": "markdown",
   "metadata": {},
   "source": [
    "### •\tDifferentiate between mutable and immutable data types in python and give examples of mutable and immutable data types.\n",
    "#### Mutable Data Types\n",
    "Mutable data types are those whose state can be changed after they are created. This means that you can modify their contents without creating a new object.\n",
    "#### Immutable Data Types\n",
    "Immutable data types are those whose state cannot be changed after they are created. Any modification to an immutable object results in the creation of a new object."
   ]
  },
  {
   "cell_type": "code",
   "execution_count": 4,
   "metadata": {},
   "outputs": [
    {
     "name": "stdout",
     "output_type": "stream",
     "text": [
      "[1, 2, 3, 4]\n",
      "{'a': 1, 'b': 2, 'c': 3}\n",
      "{1, 2, 3, 4}\n"
     ]
    }
   ],
   "source": [
    "''' Example of Mutable Data Types:'''\n",
    "# List example\n",
    "my_list = [1, 2, 3]\n",
    "my_list.append(4) \n",
    "print(my_list) \n",
    "# Dictionary example\n",
    "my_dict = {'a': 1, 'b': 2}\n",
    "my_dict['c'] = 3  \n",
    "print(my_dict)  \n",
    "# Set example\n",
    "my_set = {1, 2, 3}\n",
    "my_set.add(4)  \n",
    "print(my_set)  \n"
   ]
  },
  {
   "cell_type": "code",
   "execution_count": null,
   "metadata": {},
   "outputs": [],
   "source": [
    "''' Example of Imutable Data Types'''\n",
    "# String example\n",
    "my_string = \"hello\"\n",
    "new_string = my_string.upper() \n",
    "print(my_string)  \n",
    "print(new_string)  \n",
    "\n",
    "# Tuple example\n",
    "my_tuple = (1, 2, 3)\n",
    "# Number example\n",
    "a = 10\n",
    "b = a + 5  \n",
    "print(a)  \n",
    "print(b) \n",
    "\n",
    "# frozenset example\n",
    "my_frozenset = frozenset([1, 2, 3])\n"
   ]
  },
  {
   "cell_type": "markdown",
   "metadata": {},
   "source": [
    "### •\tWhat is '__init__'?Explain with an example.\n",
    "The __init__ method in Python is a special method that is called when an instance (object) of a class is created. It is commonly known as the constructor method in Python. The primary purpose of __init__ is to initialize the attributes of the object. It can be used to set the initial state of an object by assigning values to the instance variables."
   ]
  },
  {
   "cell_type": "code",
   "execution_count": 5,
   "metadata": {},
   "outputs": [
    {
     "name": "stdout",
     "output_type": "stream",
     "text": [
      "Alice\n",
      "30\n",
      "Hello, my name is Alice and I am 30 years old.\n"
     ]
    }
   ],
   "source": [
    "''' __init__ method Example '''\n",
    "class Person:\n",
    "    def __init__(self, name, age):\n",
    "        self.name = name  # Initialize the instance variable 'name'\n",
    "        self.age = age    # Initialize the instance variable 'age'\n",
    "\n",
    "    def greet(self):\n",
    "        print(f\"Hello, my name is {self.name} and I am {self.age} years old.\")\n",
    "# Creating an instance of the Person class\n",
    "person1 = Person(\"Alice\", 30)\n",
    "# Accessing instance variables\n",
    "print(person1.name)  \n",
    "print(person1.age)\n",
    "\n",
    "# Calling a method of the Person class\n",
    "person1.greet()  \n"
   ]
  },
  {
   "cell_type": "markdown",
   "metadata": {},
   "source": [
    "### •\tWhat is docstring in Python?Explain with an example.\n",
    "Docstrings are a crucial part of writing readable and maintainable code, as they help others and your future self understand the purpose and usage of various parts of your code.\n",
    "  Purpose: To provide a convenient way to associate documentation with Python code."
   ]
  },
  {
   "cell_type": "code",
   "execution_count": 6,
   "metadata": {},
   "outputs": [
    {
     "name": "stdout",
     "output_type": "stream",
     "text": [
      "\n",
      "    Adds two numbers and returns the result.\n",
      "\n",
      "    Parameters:\n",
      "    a (int or float): The first number to add.\n",
      "    b (int or float): The second number to add.\n",
      "\n",
      "    Returns:\n",
      "    int or float: The sum of the two numbers.\n",
      "    \n"
     ]
    }
   ],
   "source": [
    "def add(a, b):\n",
    "    \"\"\"\n",
    "    Adds two numbers and returns the result.\n",
    "\n",
    "    Parameters:\n",
    "    a (int or float): The first number to add.\n",
    "    b (int or float): The second number to add.\n",
    "\n",
    "    Returns:\n",
    "    int or float: The sum of the two numbers.\n",
    "    \"\"\"\n",
    "    return a + b\n",
    "\n",
    "# Accessing the docstring\n",
    "print(add.__doc__)\n"
   ]
  },
  {
   "cell_type": "markdown",
   "metadata": {},
   "source": [
    "### •\tWhat are unit tests in Python?\n",
    "Unit tests in Python are a method of testing individual units or components of a program to ensure that they are functioning correctly. A unit is the smallest testable part of an application, such as a function, method, or class. Unit testing is crucial for verifying that each part of the software works as expected and helps in identifying and fixing bugs early in the development process."
   ]
  },
  {
   "cell_type": "code",
   "execution_count": 7,
   "metadata": {},
   "outputs": [],
   "source": [
    "# math_operations.py\n",
    "\n",
    "def add(a, b):\n",
    "    return a + b\n",
    "\n",
    "def subtract(a, b):\n",
    "    return a - b\n",
    "\n",
    "def multiply(a, b):\n",
    "    return a * b\n",
    "\n",
    "def divide(a, b):\n",
    "    if b == 0:\n",
    "        raise ValueError(\"Cannot divide by zero!\")\n",
    "    return a / b\n"
   ]
  },
  {
   "cell_type": "markdown",
   "metadata": {},
   "source": [
    "### •\tWhat is break, continue and pass in python?\n",
    "##### break: Exits the loop immediately.\n",
    "##### continue: Skips the rest of the current loop iteration and moves to the next iteration.\n",
    "##### pass: Does nothing and is used as a placeholder."
   ]
  },
  {
   "cell_type": "code",
   "execution_count": 8,
   "metadata": {},
   "outputs": [
    {
     "name": "stdout",
     "output_type": "stream",
     "text": [
      "0\n",
      "1\n",
      "2\n",
      "3\n",
      "4\n"
     ]
    }
   ],
   "source": [
    "# Examle of break\n",
    "for i in range(10):\n",
    "    if i == 5:\n",
    "        break\n",
    "    print(i)\n"
   ]
  },
  {
   "cell_type": "code",
   "execution_count": 9,
   "metadata": {},
   "outputs": [
    {
     "name": "stdout",
     "output_type": "stream",
     "text": [
      "1\n",
      "3\n",
      "5\n",
      "7\n",
      "9\n"
     ]
    }
   ],
   "source": [
    "#Example of continue\n",
    "for i in range(10):\n",
    "    if i % 2 == 0:\n",
    "        continue\n",
    "    print(i)\n"
   ]
  },
  {
   "cell_type": "code",
   "execution_count": 10,
   "metadata": {},
   "outputs": [
    {
     "name": "stdout",
     "output_type": "stream",
     "text": [
      "1\n",
      "3\n",
      "5\n",
      "7\n",
      "9\n"
     ]
    }
   ],
   "source": [
    "# Example of pass\n",
    "for i in range(10):\n",
    "    if i % 2 == 0:\n",
    "        pass\n",
    "    else:\n",
    "        print(i)\n"
   ]
  },
  {
   "cell_type": "markdown",
   "metadata": {},
   "source": [
    "### •\tWhat is the use of self in Python?\n",
    "In Python, self is a conventional name for the first parameter of instance methods in a class. It is a reference to the current instance of the class and is used to access variables and methods associated with that instance. By using self, you can access attributes and methods of the class in object-oriented programming.\n"
   ]
  },
  {
   "cell_type": "code",
   "execution_count": 11,
   "metadata": {},
   "outputs": [
    {
     "name": "stdout",
     "output_type": "stream",
     "text": [
      "Area: 78.5\n",
      "Circumference: 31.400000000000002\n"
     ]
    }
   ],
   "source": [
    "class Circle:\n",
    "    def __init__(self, radius):\n",
    "        self.radius = radius\n",
    "\n",
    "    def area(self):\n",
    "        return 3.14 * self.radius ** 2\n",
    "\n",
    "    def circumference(self):\n",
    "        return 2 * 3.14 * self.radius\n",
    "\n",
    "# Creating an instance of the Circle class\n",
    "circle = Circle(5)\n",
    "print(f\"Area: {circle.area()}\")            \n",
    "print(f\"Circumference: {circle.circumference()}\")  \n"
   ]
  },
  {
   "cell_type": "markdown",
   "metadata": {},
   "source": [
    "### •\tWhat are global , protected and private attributes in Python?\n",
    "##### Global Variables: Defined outside of functions and classes, accessible throughout the module or program.\n",
    "##### Protected Attributes: Conventionally indicated by a single leading underscore (_), implying internal use within a module or class hierarchy.\n",
    "##### Private Attributes: Achieved by name mangling with double leading underscores (__), intended to avoid name clashes in subclasses and to signal internal use only.\n"
   ]
  },
  {
   "cell_type": "code",
   "execution_count": 12,
   "metadata": {},
   "outputs": [
    {
     "name": "stdout",
     "output_type": "stream",
     "text": [
      "10\n"
     ]
    }
   ],
   "source": [
    "# Global variable\n",
    "global_var = 10\n",
    "def func():\n",
    "    print(global_var) \n",
    "\n",
    "func()"
   ]
  },
  {
   "cell_type": "code",
   "execution_count": 13,
   "metadata": {},
   "outputs": [
    {
     "name": "stdout",
     "output_type": "stream",
     "text": [
      "20\n"
     ]
    }
   ],
   "source": [
    "# protected Attributes\n",
    "class Base:\n",
    "    def __init__(self):\n",
    "        self._protected_var = 20\n",
    "\n",
    "class Derived(Base):\n",
    "    def __init__(self):\n",
    "        super().__init__()\n",
    "        print(self._protected_var)  \n",
    "\n",
    "obj = Derived()  "
   ]
  },
  {
   "cell_type": "code",
   "execution_count": 14,
   "metadata": {},
   "outputs": [
    {
     "name": "stdout",
     "output_type": "stream",
     "text": [
      "30\n"
     ]
    }
   ],
   "source": [
    "# Private Attributes\n",
    "class MyClass:\n",
    "    def __init__(self):\n",
    "        self.__private_var = 30\n",
    "\n",
    "    def get_private_var(self):\n",
    "        return self.__private_var\n",
    "\n",
    "obj = MyClass()\n",
    "# Accessing private variable indirectly through a method\n",
    "print(obj.get_private_var()) "
   ]
  },
  {
   "cell_type": "markdown",
   "metadata": {},
   "source": [
    "### •\tWhat are modules and packages in python?\n",
    "##### Modules: Single files containing Python code. They help in organizing code by defining functions, classes, and variables.\n",
    "##### Packages: Directories containing multiple modules and an __init__.py file. They help in organizing modules hierarchically and managing large codebases."
   ]
  },
  {
   "cell_type": "code",
   "execution_count": null,
   "metadata": {},
   "outputs": [],
   "source": [
    "'''Creating a Module'''\n",
    "# mymodule.py\n",
    "def greet(name):\n",
    "    return f\"Hello, {name}!\"\n",
    "\n",
    "PI = 3.14159\n",
    "\n",
    "import mymodule\n",
    "\n",
    "print(mymodule.greet(\"Alice\"))  # Output: Hello, Alice!\n",
    "print(mymodule.PI)              # Output: 3.14159\n",
    "\n"
   ]
  },
  {
   "cell_type": "code",
   "execution_count": null,
   "metadata": {},
   "outputs": [],
   "source": [
    "# mypackage/__init__.py\n",
    "\n",
    "def package_greet(name):\n",
    "    return f\"Hello from the package, {name}!\"\n",
    "\n",
    "# main.py\n",
    "\n",
    "import mypackage.module1\n",
    "import mypackage.module2\n",
    "\n",
    "print(mypackage.module1.some_function())\n"
   ]
  },
  {
   "cell_type": "markdown",
   "metadata": {},
   "source": [
    "### •\tWhat are lists and tuples? What is the key difference between the two?\n",
    "##### Lists\n",
    "Definition: A list is an ordered collection of items that is mutable, meaning its elements can be changed after the list is created.\n",
    "Syntax: Lists are defined using square brackets [].\n",
    "Mutable: You can add, remove, or modify elements in a list.\n",
    "Dynamic: Lists can grow and shrink in size as needed.\n",
    "Usage: Suitable for collections of items that need to be modified.\n",
    "##### Tuple\n",
    "Definition: A tuple is an ordered collection of items that is immutable, meaning its elements cannot be changed after the tuple is created.\n",
    "Syntax: Tuples are defined using parentheses ().\n",
    "Immutable: Once a tuple is created, you cannot add, remove, or modify its elements.\n",
    "Static: Tuples have a fixed size and content.\n",
    "Usage: Suitable for collections of items that should not be modified, such as fixed data sets or constants."
   ]
  },
  {
   "cell_type": "code",
   "execution_count": 15,
   "metadata": {},
   "outputs": [
    {
     "name": "stdout",
     "output_type": "stream",
     "text": [
      "apple\n",
      "['apple', 'blueberry', 'cherry']\n",
      "['apple', 'blueberry', 'cherry', 'date']\n",
      "['blueberry', 'cherry', 'date']\n"
     ]
    }
   ],
   "source": [
    "# List Example\n",
    "fruits = [\"apple\", \"banana\", \"cherry\"]\n",
    "print(fruits[0]) \n",
    "fruits[1] = \"blueberry\"\n",
    "print(fruits)  \n",
    "fruits.append(\"date\")\n",
    "print(fruits)  \n",
    "fruits.remove(\"apple\")\n",
    "print(fruits) \n"
   ]
  },
  {
   "cell_type": "code",
   "execution_count": 16,
   "metadata": {},
   "outputs": [
    {
     "name": "stdout",
     "output_type": "stream",
     "text": [
      "apple\n",
      "('apple', 'banana', 'cherry', 'date')\n",
      "apple\n",
      "banana\n",
      "cherry\n"
     ]
    }
   ],
   "source": [
    "# TUPLE EXAMPLE\n",
    "fruits = (\"apple\", \"banana\", \"cherry\")\n",
    "print(fruits[0])  \n",
    "new_fruits = fruits + (\"date\",)\n",
    "print(new_fruits)  \n",
    "\n",
    "a, b, c = (\"apple\", \"banana\", \"cherry\")\n",
    "print(a)  \n",
    "print(b)  \n",
    "print(c)  \n"
   ]
  },
  {
   "cell_type": "markdown",
   "metadata": {},
   "source": [
    "### •\tWhat is an Interpreted language & dynamically typed language?Write 5 differences between them.\n",
    "Execution vs. Type Determination:\n",
    "\n",
    "Interpreted: Code is executed directly line by line.\n",
    "Dynamically Typed: Variable types are determined at runtime.\n",
    "\n",
    "Compilation:\n",
    "\n",
    "Interpreted: No compilation needed.\n",
    "Dynamically Typed: No type declarations needed.\n",
    "\n",
    "Type Checking:\n",
    "\n",
    "Interpreted: Performed at runtime by the interpreter.\n",
    "Dynamically Typed: Performed at runtime, allowing variables to change type.\n",
    "\n",
    "Error Detection:\n",
    "\n",
    "Interpreted: Errors are found at runtime.\n",
    "Dynamically Typed: Type-related errors are found at runtime.\n",
    "\n",
    "Performance:\n",
    "\n",
    "Interpreted: Generally slower due to interpretation overhead.\n",
    "Dynamically Typed: Variable performance; dynamic typing adds flexibility but may impact speed."
   ]
  },
  {
   "cell_type": "markdown",
   "metadata": {},
   "source": [
    "### •\tWhat are Dict and List comprehensions?\n",
    "List and dictionary comprehensions are concise ways to create lists and dictionaries in Python. They offer a more readable and expressive way to generate these collections by embedding loops and conditional logic within a single line of code."
   ]
  },
  {
   "cell_type": "code",
   "execution_count": 17,
   "metadata": {},
   "outputs": [
    {
     "name": "stdout",
     "output_type": "stream",
     "text": [
      "[0, 4, 16, 36, 64]\n"
     ]
    }
   ],
   "source": [
    "''' Creating a list of squares of even numbers from 0 to 9'''\n",
    "squares = [x**2 for x in range(10) if x % 2 == 0]\n",
    "print(squares)  \n"
   ]
  },
  {
   "cell_type": "code",
   "execution_count": 18,
   "metadata": {},
   "outputs": [
    {
     "name": "stdout",
     "output_type": "stream",
     "text": [
      "{0: 0, 2: 4, 4: 16, 6: 36, 8: 64}\n"
     ]
    }
   ],
   "source": [
    "'''Creating a dictionary with numbers as keys and their squares as values for even numbers from 0 to 9:'''\n",
    "squares_dict = {x: x**2 for x in range(10) if x % 2 == 0}\n",
    "print(squares_dict)  \n"
   ]
  },
  {
   "cell_type": "markdown",
   "metadata": {},
   "source": [
    "### •\tWhat are decorators in Python? Explain it with an example.Write down its use cases.\n",
    "Decorators in Python are a powerful and elegant way to modify the behavior of a function or a method. They allow you to wrap another function in order to extend its behavior without explicitly modifying it. Decorators are commonly used for logging, access control, memoization, and other cross-cutting concerns.\n",
    "\n",
    "Use Cases for Decorators\n",
    "\n",
    "Logging: Automatically log information about function calls.\n",
    "Authentication and Authorization: Check user permissions before allowing access to certain functions.\n",
    "Memoization: Cache results of expensive function calls to improve performance.\n",
    "Input Validation: Check and validate the inputs to a function.\n",
    "Timing: Measure the time a function takes to execute."
   ]
  },
  {
   "cell_type": "code",
   "execution_count": 19,
   "metadata": {},
   "outputs": [],
   "source": [
    "def my_decorator(func):\n",
    "    def wrapper():\n",
    "        print(\"Something is happening before the function is called.\")\n",
    "        func()\n",
    "        print(\"Something is happening after the function is called.\")\n",
    "    return wrapper\n"
   ]
  },
  {
   "cell_type": "markdown",
   "metadata": {},
   "source": [
    "### •\tHow is memory managed in Python?\n",
    "Memory management in Python involves a combination of techniques to efficiently allocate, use, and reclaim memory during the execution of a program. Here's an overview of how memory is managed in Python:"
   ]
  },
  {
   "cell_type": "code",
   "execution_count": null,
   "metadata": {},
   "outputs": [],
   "source": []
  },
  {
   "cell_type": "markdown",
   "metadata": {},
   "source": [
    "### •\tWhat is lambda in python? Why is it used?\n",
    "In Python, a lambda function is a small anonymous function defined using the lambda keyword. Lambda functions can have any number of arguments but only one expression. They are syntactically restricted to a single expression.\n",
    "\n",
    "Concise Function Definitions: Lambda functions are a way to define small, throwaway functions without formally defining a def function. This can make the code more concise.\n",
    "\n",
    "Higher-Order Functions: Lambda functions are often used in conjunction with higher-order functions, such as map(), filter(), and reduce(), where a simple function is required for a short period.\n",
    "\n",
    "Inline Functionality: They are useful for short-lived operations that are not reused elsewhere in the code."
   ]
  },
  {
   "cell_type": "code",
   "execution_count": 1,
   "metadata": {},
   "outputs": [
    {
     "name": "stdout",
     "output_type": "stream",
     "text": [
      "[1, 4, 9, 16, 25]\n"
     ]
    }
   ],
   "source": [
    "numbers = [1, 2, 3, 4, 5]\n",
    "squared = list(map(lambda x: x ** 2, numbers))\n",
    "print(squared)  "
   ]
  },
  {
   "cell_type": "markdown",
   "metadata": {},
   "source": [
    "### •\tExplain split() and join() functions in Python?\n",
    "In Python, the split() and join() functions are used for string manipulation, specifically for breaking down and combining strings, respectively"
   ]
  },
  {
   "cell_type": "code",
   "execution_count": 2,
   "metadata": {},
   "outputs": [
    {
     "name": "stdout",
     "output_type": "stream",
     "text": [
      "This-is-a-test\n"
     ]
    }
   ],
   "source": [
    "# Replacing spaces with hyphens in a string\n",
    "text = \"This is a test\"\n",
    "words = text.split()       \n",
    "hyphenated = '-'.join(words) \n",
    "print(hyphenated)           \n"
   ]
  },
  {
   "cell_type": "markdown",
   "metadata": {},
   "source": [
    "### •\tWhat are iterators , iterable & generators in Python?\n",
    "Iterables\n",
    "\n",
    "An iterable is any Python object capable of returning its members one at a time. Common examples include lists, tuples, dictionaries, sets, and strings. An object is considered iterable if it implements the __iter__() method, which returns an iterator.\n",
    "\n",
    "Iterators\n",
    "\n",
    "An iterator is an object that represents a stream of data. It is the object returned by calling the __iter__() method on an iterable. An iterator implements the __next__() method, which returns the next item from the stream and raises the StopIteration exception when there are no more items.\n",
    "\n",
    "Generators\n",
    "\n",
    "Generators are a simple and powerful tool for creating iterators. They are written like regular functions but use the yield statement to return data one piece at a time, suspending the function’s state between yields. Generators are more memory efficient than lists, especially for large datasets, because they generate items on the fly and do not store the entire dataset in memory."
   ]
  },
  {
   "cell_type": "code",
   "execution_count": 3,
   "metadata": {},
   "outputs": [
    {
     "name": "stdout",
     "output_type": "stream",
     "text": [
      "1\n",
      "2\n",
      "3\n",
      "H\n",
      "e\n",
      "l\n",
      "l\n",
      "o\n"
     ]
    }
   ],
   "source": [
    "#Iterables\n",
    "# Lists\n",
    "my_list = [1, 2, 3]\n",
    "\n",
    "# Strings\n",
    "my_string = \"Hello\"\n",
    "\n",
    "# Both can be iterated over using a for loop\n",
    "for item in my_list:\n",
    "    print(item)\n",
    "\n",
    "for char in my_string:\n",
    "    print(char)\n"
   ]
  },
  {
   "cell_type": "code",
   "execution_count": 4,
   "metadata": {},
   "outputs": [
    {
     "name": "stdout",
     "output_type": "stream",
     "text": [
      "1\n",
      "2\n",
      "3\n"
     ]
    }
   ],
   "source": [
    "# Iterator\n",
    "my_list = [1, 2, 3]\n",
    "my_iterator = iter(my_list)\n",
    "\n",
    "print(next(my_iterator)) \n",
    "print(next(my_iterator))  \n",
    "print(next(my_iterator)) "
   ]
  },
  {
   "cell_type": "code",
   "execution_count": 5,
   "metadata": {},
   "outputs": [
    {
     "name": "stdout",
     "output_type": "stream",
     "text": [
      "1\n",
      "2\n",
      "3\n"
     ]
    }
   ],
   "source": [
    "# Generator\n",
    "def my_generator():\n",
    "    yield 1\n",
    "    yield 2\n",
    "    yield 3\n",
    "\n",
    "gen = my_generator()\n",
    "\n",
    "print(next(gen)) \n",
    "print(next(gen))  \n",
    "print(next(gen))  "
   ]
  },
  {
   "cell_type": "markdown",
   "metadata": {},
   "source": [
    "### •\tWhat is the difference between xrange and range in python?\n"
   ]
  },
  {
   "cell_type": "code",
   "execution_count": 6,
   "metadata": {},
   "outputs": [
    {
     "ename": "NameError",
     "evalue": "name 'xrange' is not defined",
     "output_type": "error",
     "traceback": [
      "\u001b[1;31m---------------------------------------------------------------------------\u001b[0m",
      "\u001b[1;31mNameError\u001b[0m                                 Traceback (most recent call last)",
      "Cell \u001b[1;32mIn[6], line 1\u001b[0m\n\u001b[1;32m----> 1\u001b[0m \u001b[38;5;28;01mfor\u001b[39;00m i \u001b[38;5;129;01min\u001b[39;00m \u001b[43mxrange\u001b[49m(\u001b[38;5;241m1\u001b[39m, \u001b[38;5;241m10\u001b[39m):\n\u001b[0;32m      2\u001b[0m     \u001b[38;5;28mprint\u001b[39m(i)\n",
      "\u001b[1;31mNameError\u001b[0m: name 'xrange' is not defined"
     ]
    }
   ],
   "source": [
    "for i in xrange(1, 10):\n",
    "    print(i)"
   ]
  },
  {
   "cell_type": "markdown",
   "metadata": {},
   "source": [
    "### •\tPillars of Oops.\n",
    "the four pillars of OOP are implemented and used in Python:\n",
    "\n",
    "Encapsulation:\n",
    "\n",
    "Definition: Encapsulation in Python is achieved by using classes to bundle data (attributes) and methods (functions) that operate on that data into a single unit. Python provides access control mechanisms through the use of public, protected, and private attributes.\n",
    "\n",
    "Abstraction:\n",
    "\n",
    "Definition: Abstraction in Python is implemented using abstract classes and interfaces, allowing the hiding of complex implementation details and exposing only the necessary parts.\n",
    "\n",
    "Inheritance:\n",
    "\n",
    "Definition: Inheritance in Python allows a class (child class) to inherit attributes and methods from another class (parent class), promoting code reuse and the creation of hierarchical relationships."
   ]
  },
  {
   "cell_type": "code",
   "execution_count": 3,
   "metadata": {},
   "outputs": [],
   "source": [
    "# Encapsulation:\n",
    "class Car:\n",
    "    def __init__(self, speed, fuel):\n",
    "        self.__speed = speed   # Private attribute\n",
    "        self.__fuel = fuel     # Private attribute\n",
    "\n",
    "    def get_speed(self):\n",
    "        return self.__speed\n",
    "\n",
    "    def refuel(self, amount):\n",
    "        self.__fuel += amount\n"
   ]
  },
  {
   "cell_type": "code",
   "execution_count": 2,
   "metadata": {},
   "outputs": [],
   "source": [
    "# Abstraction\n",
    "from abc import ABC, abstractmethod\n",
    "\n",
    "class Shape(ABC):\n",
    "    @abstractmethod\n",
    "    def draw(self):\n",
    "        pass\n",
    "\n",
    "class Circle(Shape):\n",
    "    def draw(self):\n",
    "        print(\"Drawing a circle\")\n",
    "\n",
    "class Square(Shape):\n",
    "    def draw(self):\n",
    "        print(\"Drawing a square\")\n"
   ]
  },
  {
   "cell_type": "code",
   "execution_count": 1,
   "metadata": {},
   "outputs": [],
   "source": [
    "# Inheritance\n",
    "class Vehicle:\n",
    "    def __init__(self, make, model):\n",
    "        self.make = make\n",
    "        self.model = model\n",
    "\n",
    "    def start(self):\n",
    "        print(f\"{self.make} {self.model} is starting.\")\n",
    "\n",
    "class Car(Vehicle):\n",
    "    def __init__(self, make, model, num_doors):\n",
    "        super().__init__(make, model)\n",
    "        self.num_doors = num_doors\n",
    "\n",
    "    def open_doors(self):\n",
    "        print(f\"Opening {self.num_doors} doors.\")\n"
   ]
  },
  {
   "cell_type": "markdown",
   "metadata": {},
   "source": [
    "### •\tHow will you check if a class is a child Of another class?\n",
    "if a class is a subclass of another class using the built-in issubclass() function. This function returns True if the first class is a subclass (directly or indirectly) of the second class, and False otherwise."
   ]
  },
  {
   "cell_type": "code",
   "execution_count": 4,
   "metadata": {},
   "outputs": [
    {
     "name": "stdout",
     "output_type": "stream",
     "text": [
      "True\n",
      "True\n",
      "False\n"
     ]
    }
   ],
   "source": [
    "class Parent:\n",
    "    pass\n",
    "\n",
    "class Child(Parent):\n",
    "    pass\n",
    "\n",
    "class GrandChild(Child):\n",
    "    pass\n",
    "\n",
    "# Check if Child is a subclass of Parent\n",
    "print(issubclass(Child, Parent))  \n",
    "\n",
    "# Check if GrandChild is a subclass of Parent\n",
    "print(issubclass(GrandChild, Parent))  \n",
    "\n",
    "# Check if Parent is a subclass of Child\n",
    "print(issubclass(Parent, Child))  \n"
   ]
  },
  {
   "cell_type": "markdown",
   "metadata": {},
   "source": [
    "### •\tHow does inheritance work in python? Explain all types of inheritance with an example.\n",
    "Inheritance in Python allows a class to inherit attributes and methods from another class. This promotes code reuse and establishes a natural hierarchy between classes. There are several types of inheritance in Python:\n",
    "\n",
    "Single Inheritance\n",
    "\n",
    "Multiple Inheritance\n",
    "\n",
    "Multilevel Inheritance\n",
    "\n",
    "Hierarchical Inheritance\n",
    "\n",
    "Hybrid Inheritance"
   ]
  },
  {
   "cell_type": "code",
   "execution_count": 5,
   "metadata": {},
   "outputs": [
    {
     "name": "stdout",
     "output_type": "stream",
     "text": [
      "This is a method in the Parent class.\n",
      "This is a method in the Child class.\n"
     ]
    }
   ],
   "source": [
    "# Single Inheritance\n",
    "class Parent:\n",
    "    def parent_method(self):\n",
    "        print(\"This is a method in the Parent class.\")\n",
    "\n",
    "class Child(Parent):\n",
    "    def child_method(self):\n",
    "        print(\"This is a method in the Child class.\")\n",
    "\n",
    "# Usage\n",
    "child = Child()\n",
    "child.parent_method() \n",
    "child.child_method()\n"
   ]
  },
  {
   "cell_type": "code",
   "execution_count": 6,
   "metadata": {},
   "outputs": [
    {
     "name": "stdout",
     "output_type": "stream",
     "text": [
      "This is a method in Parent1 class.\n",
      "This is a method in Parent2 class.\n",
      "This is a method in the Child class.\n"
     ]
    }
   ],
   "source": [
    "# Multiple Inherirance\n",
    "class Parent1:\n",
    "    def parent1_method(self):\n",
    "        print(\"This is a method in Parent1 class.\")\n",
    "\n",
    "class Parent2:\n",
    "    def parent2_method(self):\n",
    "        print(\"This is a method in Parent2 class.\")\n",
    "\n",
    "class Child(Parent1, Parent2):\n",
    "    def child_method(self):\n",
    "        print(\"This is a method in the Child class.\")\n",
    "\n",
    "# Usage\n",
    "child = Child()\n",
    "child.parent1_method()  \n",
    "child.parent2_method()  \n",
    "child.child_method()\n"
   ]
  },
  {
   "cell_type": "code",
   "execution_count": 7,
   "metadata": {},
   "outputs": [
    {
     "name": "stdout",
     "output_type": "stream",
     "text": [
      "This is a method in the Grandparent class.\n",
      "This is a method in the Parent class.\n",
      "This is a method in the Child class.\n"
     ]
    }
   ],
   "source": [
    "# Multilevel Inheritance\n",
    "class Grandparent:\n",
    "    def grandparent_method(self):\n",
    "        print(\"This is a method in the Grandparent class.\")\n",
    "\n",
    "class Parent(Grandparent):\n",
    "    def parent_method(self):\n",
    "        print(\"This is a method in the Parent class.\")\n",
    "\n",
    "class Child(Parent):\n",
    "    def child_method(self):\n",
    "        print(\"This is a method in the Child class.\")\n",
    "\n",
    "# Usage\n",
    "child = Child()\n",
    "child.grandparent_method()  \n",
    "child.parent_method()       \n",
    "child.child_method()\n"
   ]
  },
  {
   "cell_type": "code",
   "execution_count": 8,
   "metadata": {},
   "outputs": [
    {
     "name": "stdout",
     "output_type": "stream",
     "text": [
      "This is a method in the Parent class.\n",
      "This is a method in the Child1 class.\n",
      "This is a method in the Parent class.\n",
      "This is a method in the Child2 class.\n"
     ]
    }
   ],
   "source": [
    "# Hierarchical Inheritance\n",
    "class Parent:\n",
    "    def parent_method(self):\n",
    "        print(\"This is a method in the Parent class.\")\n",
    "\n",
    "class Child1(Parent):\n",
    "    def child1_method(self):\n",
    "        print(\"This is a method in the Child1 class.\")\n",
    "\n",
    "class Child2(Parent):\n",
    "    def child2_method(self):\n",
    "        print(\"This is a method in the Child2 class.\")\n",
    "\n",
    "# Usage\n",
    "child1 = Child1()\n",
    "child1.parent_method() \n",
    "child1.child1_method()\n",
    "\n",
    "child2 = Child2()\n",
    "child2.parent_method()  \n",
    "child2.child2_method()\n"
   ]
  },
  {
   "cell_type": "code",
   "execution_count": 9,
   "metadata": {},
   "outputs": [
    {
     "name": "stdout",
     "output_type": "stream",
     "text": [
      "This is a method in the Parent class.\n",
      "This is a method in the Child1 class.\n",
      "This is a method in the Child2 class.\n",
      "This is a method in the Grandchild class.\n"
     ]
    }
   ],
   "source": [
    "# Hybrid Inheritance\n",
    "class Parent:\n",
    "    def parent_method(self):\n",
    "        print(\"This is a method in the Parent class.\")\n",
    "\n",
    "class Child1(Parent):\n",
    "    def child1_method(self):\n",
    "        print(\"This is a method in the Child1 class.\")\n",
    "\n",
    "class Child2(Parent):\n",
    "    def child2_method(self):\n",
    "        print(\"This is a method in the Child2 class.\")\n",
    "\n",
    "class Grandchild(Child1, Child2):  \n",
    "    def grandchild_method(self):\n",
    "        print(\"This is a method in the Grandchild class.\")\n",
    "\n",
    "# Usage\n",
    "grandchild = Grandchild()\n",
    "grandchild.parent_method()     \n",
    "grandchild.child1_method()     \n",
    "grandchild.child2_method()  \n",
    "grandchild.grandchild_method()\n"
   ]
  },
  {
   "cell_type": "markdown",
   "metadata": {},
   "source": [
    "### •\tWhat is encapsulation? Explain it with an example.\n",
    "Encapsulation is one of the fundamental principles of Object-Oriented Programming (OOP). It involves bundling the data (attributes) and the methods (functions) that operate on the data into a single unit or class, and restricting direct access to some of an object's components. This is typically done to protect the integrity of the data and to prevent unauthorized or unintended interference."
   ]
  },
  {
   "cell_type": "code",
   "execution_count": 10,
   "metadata": {},
   "outputs": [
    {
     "name": "stdout",
     "output_type": "stream",
     "text": [
      "Deposited 500. New balance is 1500.\n",
      "Withdrew 200. New balance is 1300.\n",
      "Balance: 1300\n",
      "1300\n"
     ]
    }
   ],
   "source": [
    "class BankAccount:\n",
    "    def __init__(self, owner, balance=0):\n",
    "        self.owner = owner\n",
    "        self.__balance = balance  \n",
    "\n",
    "    def deposit(self, amount):\n",
    "        if amount > 0:\n",
    "            self.__balance += amount\n",
    "            print(f\"Deposited {amount}. New balance is {self.__balance}.\")\n",
    "        else:\n",
    "            print(\"Deposit amount must be positive.\")\n",
    "\n",
    "    def withdraw(self, amount):\n",
    "        if 0 < amount <= self.__balance:\n",
    "            self.__balance -= amount\n",
    "            print(f\"Withdrew {amount}. New balance is {self.__balance}.\")\n",
    "        else:\n",
    "            print(\"Invalid withdraw amount.\")\n",
    "\n",
    "    def get_balance(self):\n",
    "        return self.__balance\n",
    "\n",
    "# Usage\n",
    "account = BankAccount(\"Alice\", 1000)\n",
    "\n",
    "# Accessing public methods\n",
    "account.deposit(500)\n",
    "account.withdraw(200)\n",
    "print(f\"Balance: {account.get_balance()}\")\n",
    "\n",
    "print(account._BankAccount__balance) \n"
   ]
  },
  {
   "cell_type": "markdown",
   "metadata": {},
   "source": [
    "### •\tWhat is polymorphism? Explain it with an example\n",
    "Polymorphism is one of the core concepts in Object-Oriented Programming (OOP). It refers to the ability of different objects to be treated as instances of the same class through a common interface. Polymorphism allows methods to be used interchangeably between objects of different types, enabling a single interface to handle a variety of underlying forms (data types)."
   ]
  },
  {
   "cell_type": "code",
   "execution_count": 11,
   "metadata": {},
   "outputs": [
    {
     "name": "stdout",
     "output_type": "stream",
     "text": [
      "Drawing a circle\n",
      "Drawing a square\n",
      "Drawing a triangle\n"
     ]
    }
   ],
   "source": [
    "class Shape:\n",
    "    def draw(self):\n",
    "        raise NotImplementedError(\"Subclass must implement abstract method\")\n",
    "\n",
    "class Circle(Shape):\n",
    "    def draw(self):\n",
    "        print(\"Drawing a circle\")\n",
    "\n",
    "class Square(Shape):\n",
    "    def draw(self):\n",
    "        print(\"Drawing a square\")\n",
    "\n",
    "class Triangle(Shape):\n",
    "    def draw(self):\n",
    "        print(\"Drawing a triangle\")\n",
    "\n",
    "\n",
    "def draw_shape(shape):\n",
    "    shape.draw()\n",
    "\n",
    "# Usage\n",
    "shapes = [Circle(), Square(), Triangle()]\n",
    "\n",
    "for shape in shapes:\n",
    "    draw_shape(shape)\n"
   ]
  },
  {
   "cell_type": "markdown",
   "metadata": {},
   "source": [
    "### Question 1.2. Which of the following identifier names are invalid and why?\n",
    "a)\tSerial_no.\n",
    "b)\t1st_Room\n",
    "c)\tHundred$\n",
    "d)\tTotal_Marks\n",
    "e)\ttotal-Marks\n",
    "f)\tTotal Marks\n",
    "g)\tTrue\n",
    "h)\t_ percentag\n",
    "#### Anawer\n",
    "Serial_no.: Invalid\n",
    "\n",
    "Reason: An identifier cannot end with a period (.).\n",
    "1st_Room: Invalid\n",
    "\n",
    "Reason: Identifiers cannot start with a digit. They must begin with a letter (a-z, A-Z) or an underscore (_).\n",
    "\n",
    "Hundred$: Invalid\n",
    "\n",
    "Reason: Identifiers can only contain letters, digits, and underscores (_). The dollar sign ($) is not allowed.\n",
    "\n",
    "Total_Marks: Valid\n",
    "\n",
    "Reason: This identifier follows all the rules. It starts with a letter and contains only letters and underscores.\n",
    "\n",
    "total-Marks: Invalid\n",
    "\n",
    "Reason: Identifiers cannot contain hyphens (-). Only letters, digits, and underscores are allowed.\n",
    "\n",
    "Total Marks: Invalid\n",
    "\n",
    "Reason: Identifiers cannot contain spaces. They must be continuous strings of letters, digits, and underscores.\n",
    "\n",
    "True: Invalid\n",
    "\n",
    "Reason: True is a reserved keyword in Python, used to represent the boolean value True. Keywords cannot be used as identifiers.\n",
    "\n",
    "_percentag: Valid\n",
    "\n",
    "Reason: This identifier starts with an underscore and contains only letters. It follows all the naming rules.\n"
   ]
  },
  {
   "cell_type": "markdown",
   "metadata": {},
   "source": [
    "### 11.\tDefine a python module named constants.py containing constants like pi and the speed Of light.\n"
   ]
  },
  {
   "cell_type": "code",
   "execution_count": 3,
   "metadata": {},
   "outputs": [
    {
     "name": "stdout",
     "output_type": "stream",
     "text": [
      "3.14\n",
      "299792458\n"
     ]
    }
   ],
   "source": [
    "import constants\n",
    "\n",
    "print(constants.PI)\n",
    "print(constants.SPEED_OF_LIGHT)\n"
   ]
  },
  {
   "cell_type": "markdown",
   "metadata": {},
   "source": [
    "### 12.\tWrite a python module named calculator.py containing functions for addition, subtraction, multiplication, and division\n"
   ]
  },
  {
   "cell_type": "code",
   "execution_count": 5,
   "metadata": {},
   "outputs": [
    {
     "data": {
      "text/plain": [
       "-11"
      ]
     },
     "execution_count": 5,
     "metadata": {},
     "output_type": "execute_result"
    }
   ],
   "source": [
    "import calculater as cal\n",
    "cal.subtract(22,33)"
   ]
  },
  {
   "cell_type": "markdown",
   "metadata": {},
   "source": [
    "### 13.\tImplement a Python package structure for a project named ecommerce, containing modules for product management and order processing."
   ]
  },
  {
   "cell_type": "code",
   "execution_count": 7,
   "metadata": {},
   "outputs": [
    {
     "name": "stdout",
     "output_type": "stream",
     "text": [
      "Products after addition:\n",
      "Product(id=1, name=Laptop, price=1000.0, stock=10)\n",
      "Product(id=2, name=Smartphone, price=500.0, stock=20)\n",
      "Products after removal of product with id 1:\n",
      "Product(id=2, name=Smartphone, price=500.0, stock=20)\n",
      "Order before processing:\n",
      "Order(id=1, customer=John Doe, products=[Product(id=2, name=Smartphone, price=500.0, stock=20)], status=Pending)\n",
      "Order after processing:\n",
      "Order(id=1, customer=John Doe, products=[Product(id=2, name=Smartphone, price=500.0, stock=20)], status=Processed)\n"
     ]
    }
   ],
   "source": [
    "# ecommerce/main.py\n",
    "\n",
    "from product_management_project.product_management import Product, add_product, remove_product\n",
    "from product_management_project.order_processing import Order, process_order\n",
    "\n",
    "def main():\n",
    "    # Product management\n",
    "    products = []\n",
    "\n",
    "    product1 = Product(1, \"Laptop\", 1000.0, 10)\n",
    "    product2 = Product(2, \"Smartphone\", 500.0, 20)\n",
    "\n",
    "    add_product(products, product1)\n",
    "    add_product(products, product2)\n",
    "\n",
    "    print(\"Products after addition:\")\n",
    "    for product in products:\n",
    "        print(product)\n",
    "\n",
    "    remove_product(products, 1)\n",
    "\n",
    "    print(\"Products after removal of product with id 1:\")\n",
    "    for product in products:\n",
    "        print(product)\n",
    "\n",
    "    # Order processing\n",
    "    order = Order(1, \"John Doe\", [product2])\n",
    "    print(\"Order before processing:\")\n",
    "    print(order)\n",
    "\n",
    "    process_order(order)\n",
    "    print(\"Order after processing:\")\n",
    "    print(order)\n",
    "\n",
    "if __name__ == \"__main__\":\n",
    "    main()\n"
   ]
  },
  {
   "cell_type": "markdown",
   "metadata": {},
   "source": [
    "### 14.\tImplement a python module named string_utils.py containing functions for string manipulation, such as reversing and capitalizing strings."
   ]
  },
  {
   "cell_type": "code",
   "execution_count": 15,
   "metadata": {},
   "outputs": [
    {
     "data": {
      "text/plain": [
       "'.sgnirts gnizilatipac dna gnisrever sa hcus ,noitalupinam gnirts rof snoitcnuf gniniatnoc yp.slitu_gnirts deman ELUDOM nohtyp a tnemelpmi'"
      ]
     },
     "execution_count": 15,
     "metadata": {},
     "output_type": "execute_result"
    }
   ],
   "source": [
    "s=\"implement a python MODULE named string_utils.py containing functions for string manipulation, such as reversing and capitalizing strings.\"\n",
    "import string_utils as su\n",
    "su.capitalize_string(s)\n",
    "su.reverse_string(s)"
   ]
  },
  {
   "cell_type": "code",
   "execution_count": 16,
   "metadata": {},
   "outputs": [
    {
     "data": {
      "text/plain": [
       "'Implement a python module named string_utils.py containing functions for string manipulation, such as reversing and capitalizing strings.'"
      ]
     },
     "execution_count": 16,
     "metadata": {},
     "output_type": "execute_result"
    }
   ],
   "source": [
    "su.capitalize_string(s)"
   ]
  },
  {
   "cell_type": "markdown",
   "metadata": {},
   "source": [
    "### 15.\tWrite a Python module named file_operations.py with functions for reading, writing, and appending data to a file."
   ]
  },
  {
   "cell_type": "code",
   "execution_count": 9,
   "metadata": {},
   "outputs": [
    {
     "data": {
      "text/plain": [
       "'THIS IS SAURAV HERE\\nI AM FROM JHARKHAND RANCHI\\nTHERE ARE FOUR MAMBERS IN MY FAMAILY\\nI AM A DATA SCIENTIST'"
      ]
     },
     "execution_count": 9,
     "metadata": {},
     "output_type": "execute_result"
    }
   ],
   "source": [
    "import file_operations as fo \n",
    "fo.read_file(f\"C:\\\\Users\\\\anand\\\\OneDrive\\\\Desktop\\\\FILE\\\\pwassiment\\\\file.txt\" )"
   ]
  },
  {
   "cell_type": "code",
   "execution_count": 11,
   "metadata": {},
   "outputs": [
    {
     "data": {
      "text/plain": [
       "'Data successfully written to C:\\\\Users\\\\anand\\\\OneDrive\\\\Desktop\\\\FILE\\\\pwassiment\\\\file.txt'"
      ]
     },
     "execution_count": 11,
     "metadata": {},
     "output_type": "execute_result"
    }
   ],
   "source": [
    "fo.write_file(r\"C:\\Users\\anand\\OneDrive\\Desktop\\FILE\\pwassiment\\file.txt\",\"this is again saurav\")"
   ]
  },
  {
   "cell_type": "code",
   "execution_count": 12,
   "metadata": {},
   "outputs": [
    {
     "data": {
      "text/plain": [
       "'Data successfully appended to C:\\\\Users\\\\anand\\\\OneDrive\\\\Desktop\\\\FILE\\\\pwassiment\\\\file.txt'"
      ]
     },
     "execution_count": 12,
     "metadata": {},
     "output_type": "execute_result"
    }
   ],
   "source": [
    "fo.append_to_file(r\"C:\\Users\\anand\\OneDrive\\Desktop\\FILE\\pwassiment\\file.txt\",\"this is saurav here last time\")"
   ]
  },
  {
   "cell_type": "markdown",
   "metadata": {},
   "source": [
    "### 16.\tWrite a python program to create a text file named \"employees.txt\" and write the details Of employees, including their name, age, and salary, into the file."
   ]
  },
  {
   "cell_type": "code",
   "execution_count": 13,
   "metadata": {},
   "outputs": [
    {
     "name": "stdout",
     "output_type": "stream",
     "text": [
      "Employee details successfully written to employees.txt\n"
     ]
    }
   ],
   "source": [
    "# write_employees.py\n",
    "\n",
    "def write_employees_to_file(file_path, employees):\n",
    "    \"\"\"Write the details of employees to a text file.\"\"\"\n",
    "    try:\n",
    "        with open(file_path, 'w') as file:\n",
    "            for employee in employees:\n",
    "                name, age, salary = employee\n",
    "                file.write(f\"Name: {name}, Age: {age}, Salary: {salary}\\n\")\n",
    "        print(f\"Employee details successfully written to {file_path}\")\n",
    "    except Exception as e:\n",
    "        print(f\"Error: {e}\")\n",
    "\n",
    "def main():\n",
    "    employees = [\n",
    "        (\"John Doe\", 28, 50000),\n",
    "        (\"Jane Smith\", 34, 65000),\n",
    "        (\"Emily Johnson\", 45, 75000),\n",
    "        (\"Michael Brown\", 50, 80000)\n",
    "    ]\n",
    "\n",
    "    file_path = \"employees.txt\"\n",
    "    write_employees_to_file(file_path, employees)\n",
    "\n",
    "if __name__ == \"__main__\":\n",
    "    main()\n"
   ]
  },
  {
   "cell_type": "markdown",
   "metadata": {},
   "source": [
    "### 17.\tDevelop a python script that opens an existing text file named \"inventory.txt\" in read mode and displays the contents Of the file line by line."
   ]
  },
  {
   "cell_type": "code",
   "execution_count": 1,
   "metadata": {},
   "outputs": [
    {
     "name": "stdout",
     "output_type": "stream",
     "text": [
      "Item1: 10\n",
      "Item2: 20\n",
      "Item3: 15\n",
      "Item4: 5\n"
     ]
    }
   ],
   "source": [
    "# read_inventory.py\n",
    "\n",
    "def read_inventory(file_path):\n",
    "    \"\"\"Read and display the contents of the inventory file line by line.\"\"\"\n",
    "    try:\n",
    "        with open(file_path, 'r') as file:\n",
    "            for line in file:\n",
    "                print(line.strip())\n",
    "    except FileNotFoundError:\n",
    "        print(f\"Error: The file at {file_path} was not found.\")\n",
    "    except Exception as e:\n",
    "        print(f\"Error: {e}\")\n",
    "\n",
    "def main():\n",
    "    file_path = \"inventory.txt\"\n",
    "    read_inventory(file_path)\n",
    "\n",
    "if __name__ == \"__main__\":\n",
    "    main()\n"
   ]
  },
  {
   "cell_type": "markdown",
   "metadata": {},
   "source": [
    "### 18.\tCreate a python script that reads a text file named \"expenses.txt\" and calculates the total amount spent on various expenses listed in the file."
   ]
  },
  {
   "cell_type": "code",
   "execution_count": 2,
   "metadata": {},
   "outputs": [
    {
     "name": "stdout",
     "output_type": "stream",
     "text": [
      "Total amount spent: $1531.55\n"
     ]
    }
   ],
   "source": [
    "# calculate_expenses.py\n",
    "\n",
    "def read_expenses(file_path):\n",
    "    \"\"\"Read the expenses from the file and return a list of tuples (description, amount).\"\"\"\n",
    "    expenses = []\n",
    "    try:\n",
    "        with open(file_path, 'r') as file:\n",
    "            for line in file:\n",
    "                try:\n",
    "                    description, amount = line.strip().split(':')\n",
    "                    amount = float(amount)\n",
    "                    expenses.append((description, amount))\n",
    "                except ValueError:\n",
    "                    print(f\"Skipping invalid line: {line.strip()}\")\n",
    "    except FileNotFoundError:\n",
    "        print(f\"Error: The file at {file_path} was not found.\")\n",
    "    except Exception as e:\n",
    "        print(f\"Error: {e}\")\n",
    "    return expenses\n",
    "\n",
    "def calculate_total_expenses(expenses):\n",
    "    \"\"\"Calculate the total amount spent based on the expenses list.\"\"\"\n",
    "    total = sum(amount for description, amount in expenses)\n",
    "    return total\n",
    "\n",
    "def main():\n",
    "    file_path = \"expenses.txt\"\n",
    "    expenses = read_expenses(file_path)\n",
    "    total = calculate_total_expenses(expenses)\n",
    "    print(f\"Total amount spent: ${total:.2f}\")\n",
    "\n",
    "if __name__ == \"__main__\":\n",
    "    main()\n"
   ]
  },
  {
   "cell_type": "markdown",
   "metadata": {},
   "source": [
    "### 19.\tCreate a python program that reads a text file named \"paragraph.txt\" and counts the occurrences Of each word in the paragraph, displaying the results in alphabetical order."
   ]
  },
  {
   "cell_type": "code",
   "execution_count": 3,
   "metadata": {},
   "outputs": [
    {
     "name": "stdout",
     "output_type": "stream",
     "text": [
      "across: 1\n",
      "algorithms: 1\n",
      "an: 1\n",
      "analyze: 1\n",
      "and: 8\n",
      "are: 1\n",
      "as: 1\n",
      "by: 1\n",
      "can: 1\n",
      "combines: 1\n",
      "complex: 1\n",
      "computer: 1\n",
      "data: 6\n",
      "decisions: 1\n",
      "domain: 1\n",
      "drive: 1\n",
      "elements: 1\n",
      "expertise: 1\n",
      "extract: 1\n",
      "field: 1\n",
      "finance: 1\n",
      "from: 3\n",
      "gained: 1\n",
      "healthcare: 1\n",
      "improve: 1\n",
      "industries: 1\n",
      "informed: 1\n",
      "innovation: 1\n",
      "insights: 2\n",
      "interdisciplinary: 1\n",
      "interpret: 1\n",
      "is: 1\n",
      "it: 1\n",
      "knowledge: 1\n",
      "learning: 1\n",
      "leveraging: 1\n",
      "machine: 1\n",
      "make: 1\n",
      "methods: 1\n",
      "mining: 1\n",
      "modeling: 1\n",
      "of: 1\n",
      "outcomes: 1\n",
      "patterns: 1\n",
      "predictive: 1\n",
      "science: 3\n",
      "scientific: 1\n",
      "scientists: 1\n",
      "sets: 1\n",
      "statistics: 1\n",
      "structured: 1\n",
      "such: 1\n",
      "systems: 1\n",
      "techniques: 1\n",
      "that: 1\n",
      "the: 1\n",
      "to: 4\n",
      "uncover: 1\n",
      "unstructured: 1\n",
      "used: 1\n",
      "uses: 1\n",
      "various: 1\n"
     ]
    }
   ],
   "source": [
    "# count_words.py\n",
    "\n",
    "import string\n",
    "\n",
    "def read_paragraph(file_path):\n",
    "    \"\"\"Read the content of the file and return it as a string.\"\"\"\n",
    "    try:\n",
    "        with open(file_path, 'r') as file:\n",
    "            return file.read()\n",
    "    except FileNotFoundError:\n",
    "        print(f\"Error: The file at {file_path} was not found.\")\n",
    "    except Exception as e:\n",
    "        print(f\"Error: {e}\")\n",
    "    return \"\"\n",
    "\n",
    "def count_words(paragraph):\n",
    "    \"\"\"Count the occurrences of each word in the paragraph and return a dictionary.\"\"\"\n",
    "    word_counts = {}\n",
    "    # Remove punctuation and convert to lower case\n",
    "    translator = str.maketrans('', '', string.punctuation)\n",
    "    paragraph = paragraph.translate(translator).lower()\n",
    "    words = paragraph.split()\n",
    "\n",
    "    for word in words:\n",
    "        if word in word_counts:\n",
    "            word_counts[word] += 1\n",
    "        else:\n",
    "            word_counts[word] = 1\n",
    "\n",
    "    return word_counts\n",
    "\n",
    "def main():\n",
    "    file_path = \"paragraph.txt\"\n",
    "    paragraph = read_paragraph(file_path)\n",
    "    word_counts = count_words(paragraph)\n",
    "\n",
    "    # Display results in alphabetical order\n",
    "    for word in sorted(word_counts):\n",
    "        print(f\"{word}: {word_counts[word]}\")\n",
    "\n",
    "if __name__ == \"__main__\":\n",
    "    main()\n"
   ]
  },
  {
   "cell_type": "markdown",
   "metadata": {},
   "source": [
    "### 20.\tWhat do you mean by Measure of Central Tendency and Measures of Dispersion .How it can be calculated.\n"
   ]
  },
  {
   "cell_type": "code",
   "execution_count": 4,
   "metadata": {},
   "outputs": [
    {
     "ename": "IndexError",
     "evalue": "invalid index to scalar variable.",
     "output_type": "error",
     "traceback": [
      "\u001b[1;31m---------------------------------------------------------------------------\u001b[0m",
      "\u001b[1;31mIndexError\u001b[0m                                Traceback (most recent call last)",
      "Cell \u001b[1;32mIn[4], line 9\u001b[0m\n\u001b[0;32m      7\u001b[0m mean \u001b[38;5;241m=\u001b[39m np\u001b[38;5;241m.\u001b[39mmean(data)\n\u001b[0;32m      8\u001b[0m median \u001b[38;5;241m=\u001b[39m np\u001b[38;5;241m.\u001b[39mmedian(data)\n\u001b[1;32m----> 9\u001b[0m mode \u001b[38;5;241m=\u001b[39m \u001b[43mstats\u001b[49m\u001b[38;5;241;43m.\u001b[39;49m\u001b[43mmode\u001b[49m\u001b[43m(\u001b[49m\u001b[43mdata\u001b[49m\u001b[43m)\u001b[49m\u001b[43m[\u001b[49m\u001b[38;5;241;43m0\u001b[39;49m\u001b[43m]\u001b[49m\u001b[43m[\u001b[49m\u001b[38;5;241;43m0\u001b[39;49m\u001b[43m]\u001b[49m\n\u001b[0;32m     11\u001b[0m \u001b[38;5;66;03m# Measures of Dispersion\u001b[39;00m\n\u001b[0;32m     12\u001b[0m range_ \u001b[38;5;241m=\u001b[39m np\u001b[38;5;241m.\u001b[39mptp(data)  \u001b[38;5;66;03m# Range\u001b[39;00m\n",
      "\u001b[1;31mIndexError\u001b[0m: invalid index to scalar variable."
     ]
    }
   ],
   "source": [
    "import numpy as np\n",
    "from scipy import stats\n",
    "\n",
    "data = [10, 20, 20, 30, 40, 50, 60, 70, 80, 90]\n",
    "\n",
    "# Measures of Central Tendency\n",
    "mean = np.mean(data)\n",
    "median = np.median(data)\n",
    "mode = stats.mode(data)[0][0]\n",
    "\n",
    "# Measures of Dispersion\n",
    "range_ = np.ptp(data)  # Range\n",
    "variance = np.var(data, ddof=1)  # Sample Variance\n",
    "std_dev = np.std(data, ddof=1)  # Sample Standard Deviation\n",
    "q1 = np.percentile(data, 25)  # First Quartile (Q1)\n",
    "q3 = np.percentile(data, 75)  # Third Quartile (Q3)\n",
    "iqr = q3 - q1  # Interquartile Range (IQR)\n",
    "\n",
    "print(f\"Mean: {mean}\")\n",
    "print(f\"Median: {median}\")\n",
    "print(f\"Mode: {mode}\")\n",
    "print(f\"Range: {range_}\")\n",
    "print(f\"Variance: {variance}\")\n",
    "print(f\"Standard Deviation: {std_dev}\")\n",
    "print(f\"Interquartile Range (IQR): {iqr}\")\n"
   ]
  },
  {
   "cell_type": "markdown",
   "metadata": {},
   "source": [
    "### 21.\tWhat do you mean by skewness.Explain its types.use graph to show."
   ]
  },
  {
   "cell_type": "code",
   "execution_count": 5,
   "metadata": {},
   "outputs": [
    {
     "data": {
      "image/png": "[encoded data removed]",
      "text/plain": [
       "<Figure size 1500x500 with 3 Axes>"
      ]
     },
     "metadata": {},
     "output_type": "display_data"
    }
   ],
   "source": [
    "import numpy as np\n",
    "import matplotlib.pyplot as plt\n",
    "from scipy.stats import skewnorm\n",
    "\n",
    "# Generate data\n",
    "np.random.seed(0)\n",
    "\n",
    "# Positive Skew\n",
    "data_pos_skew = skewnorm.rvs(a=10, size=1000)  # 'a' parameter > 0\n",
    "\n",
    "# Negative Skew\n",
    "data_neg_skew = skewnorm.rvs(a=-10, size=1000)  # 'a' parameter < 0\n",
    "\n",
    "# Zero Skew (Normal Distribution)\n",
    "data_zero_skew = np.random.normal(loc=0, scale=1, size=1000)\n",
    "\n",
    "# Plotting\n",
    "fig, axes = plt.subplots(1, 3, figsize=(15, 5))\n",
    "\n",
    "# Positive Skew\n",
    "axes[0].hist(data_pos_skew, bins=30, edgecolor='k', alpha=0.7)\n",
    "axes[0].set_title('Positive Skew (Right-Skewed)')\n",
    "axes[0].set_xlabel('Value')\n",
    "axes[0].set_ylabel('Frequency')\n",
    "\n",
    "# Negative Skew\n",
    "axes[1].hist(data_neg_skew, bins=30, edgecolor='k', alpha=0.7)\n",
    "axes[1].set_title('Negative Skew (Left-Skewed)')\n",
    "axes[1].set_xlabel('Value')\n",
    "axes[1].set_ylabel('Frequency')\n",
    "\n",
    "# Zero Skew\n",
    "axes[2].hist(data_zero_skew, bins=30, edgecolor='k', alpha=0.7)\n",
    "axes[2].set_title('Zero Skew (Symmetrical)')\n",
    "axes[2].set_xlabel('Value')\n",
    "axes[2].set_ylabel('Frequency')\n",
    "\n",
    "plt.tight_layout()\n",
    "plt.show()\n"
   ]
  },
  {
   "cell_type": "markdown",
   "metadata": {},
   "source": [
    "### 22.\tExplain PROBABILITY MASS FUNCTION (PMF) and PROBABILITY DENSITY FUNCTION (PDF). and what is the difference between them?"
   ]
  },
  {
   "cell_type": "markdown",
   "metadata": {},
   "source": [
    "### 39.How would you create a basic Flask route that displays \"Hello, World!\" on the homepage?"
   ]
  },
  {
   "cell_type": "code",
   "execution_count": null,
   "metadata": {},
   "outputs": [],
   "source": [
    "from flask import Flask\n",
    "\n",
    "app = Flask(__name__)\n",
    "\n",
    "@app.route('/')\n",
    "def hello_world():\n",
    "    return 'Hello, World!'\n",
    "\n",
    "if __name__ == '__main__':\n",
    "    app.run(debug=True)\n"
   ]
  },
  {
   "cell_type": "markdown",
   "metadata": {},
   "source": [
    "### 40.Explain how to set up a Flask application to handle form submissions using POST requests."
   ]
  },
  {
   "cell_type": "markdown",
   "metadata": {},
   "source": []
  }
 ],
 "metadata": {
  "kernelspec": {
   "display_name": "Python 3",
   "language": "python",
   "name": "python3"
  },
  "language_info": {
   "codemirror_mode": {
    "name": "ipython",
    "version": 3
   },
   "file_extension": ".py",
   "mimetype": "text/x-python",
   "name": "python",
   "nbconvert_exporter": "python",
   "pygments_lexer": "ipython3",
   "version": "3.11.4"
  }
 },
 "nbformat": 4,
 "nbformat_minor": 2
}
